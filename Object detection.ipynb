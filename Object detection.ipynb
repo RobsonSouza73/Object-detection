{
 "cells": [
  {
   "cell_type": "code",
   "execution_count": null,
   "id": "d25e9429",
   "metadata": {},
   "outputs": [],
   "source": [
    "import tensorflow_hub as hub\n",
    "import cv2\n",
    "import numpy\n",
    "import pandas as pd\n",
    "import tensorflow as tf\n",
    "import matplotlib.pyplot as plt"
   ]
  },
  {
   "cell_type": "code",
   "execution_count": null,
   "id": "db60edcf",
   "metadata": {},
   "outputs": [],
   "source": [
    "# Inspired from  https://towardsdatascience.com/object-detection-with-tensorflow-model-and-opencv-d839f3e42849\n",
    "\n",
    "width = 1028\n",
    "height = 1028\n",
    "\n",
    "#Load image by Opencv2\n",
    "img = cv2.imread('objetos.jpeg')\n",
    "#Resize to respect the input_shape\n",
    "inp = cv2.resize(img, (width , height ))\n",
    "\n",
    "# COnverting to uint8\n",
    "rgb_tensor = tf.convert_to_tensor(img, dtype=tf.uint8)\n",
    "\n",
    "#Add dims to rgb_tensor\n",
    "rgb_tensor = tf.expand_dims(rgb_tensor , 0)"
   ]
  },
  {
   "cell_type": "code",
   "execution_count": null,
   "id": "c871cac6",
   "metadata": {},
   "outputs": [],
   "source": [
    "# Loading model directly from TensorFlow Hub\n",
    "detector = hub.load(\"../Object detection/1\")\n",
    "\n",
    "# Loading csv with labels of classes\n",
    "labels = pd.read_csv('labels.csv', sep=';', index_col='ID')\n",
    "labels = labels['OBJECT (2017 REL.)']"
   ]
  },
  {
   "cell_type": "code",
   "execution_count": null,
   "id": "c3d02238",
   "metadata": {},
   "outputs": [],
   "source": [
    "# Creating prediction\n",
    "boxes, scores, classes, num_detections = detector(rgb_tensor)\n",
    "\n",
    "# Processing outputs\n",
    "pred_labels = classes.numpy().astype('int')[0] \n",
    "pred_labels = [labels[i] for i in pred_labels]\n",
    "pred_boxes = boxes.numpy()[0].astype('int')\n",
    "pred_scores = scores.numpy()[0]\n",
    "\n",
    "# Putting the boxes and labels on the image\n",
    "for score, (ymin,xmin,ymax,xmax), label in zip(pred_scores, pred_boxes, pred_labels):\n",
    "    if score < 0.5:\n",
    "        continue\n",
    "\n",
    "    score_txt = f'{100 * round(score)}%'\n",
    "    img_boxes = cv2.rectangle(img,(xmin, ymax),(xmax, ymin),(0,255,0),2)      \n",
    "    font = cv2.FONT_HERSHEY_SIMPLEX\n",
    "    cv2.putText(img_boxes, label,(xmin, ymax-10), font, 1.5, (255,0,0), 2, cv2.LINE_AA)\n",
    "    cv2.putText(img_boxes,score_txt,(xmax, ymax-10), font, 1.5, (255,0,0), 2, cv2.LINE_AA)"
   ]
  },
  {
   "cell_type": "code",
   "execution_count": null,
   "id": "51357433",
   "metadata": {},
   "outputs": [],
   "source": [
    "cv2.imwrite(\"output.png\",img_boxes)"
   ]
  },
  {
   "cell_type": "code",
   "execution_count": null,
   "id": "db74d097",
   "metadata": {},
   "outputs": [],
   "source": []
  },
  {
   "cell_type": "code",
   "execution_count": null,
   "id": "8dab4ba2",
   "metadata": {},
   "outputs": [],
   "source": []
  },
  {
   "cell_type": "code",
   "execution_count": null,
   "id": "6982c2db",
   "metadata": {},
   "outputs": [],
   "source": []
  },
  {
   "cell_type": "code",
   "execution_count": null,
   "id": "40b9ba6f",
   "metadata": {},
   "outputs": [],
   "source": []
  }
 ],
 "metadata": {
  "kernelspec": {
   "display_name": "Python 3",
   "language": "python",
   "name": "python3"
  },
  "language_info": {
   "codemirror_mode": {
    "name": "ipython",
    "version": 3
   },
   "file_extension": ".py",
   "mimetype": "text/x-python",
   "name": "python",
   "nbconvert_exporter": "python",
   "pygments_lexer": "ipython3",
   "version": "3.8.8"
  }
 },
 "nbformat": 4,
 "nbformat_minor": 5
}
